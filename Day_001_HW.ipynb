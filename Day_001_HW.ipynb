{
 "cells": [
  {
   "cell_type": "markdown",
   "metadata": {},
   "source": [
    "## 練習時間\n",
    "#### 請寫一個函式用來計算 Mean Square Error\n",
    "$ MSE = \\frac{1}{n}\\sum_{i=1}^{n}{(Y_i - \\hat{Y}_i)^2} $\n",
    "\n",
    "### Hint: [如何取平方](https://googoodesign.gitbooks.io/-ezpython/unit-1.html)"
   ]
  },
  {
   "cell_type": "markdown",
   "metadata": {},
   "source": [
    "# [作業目標]\n",
    "- 仿造範例的MAE函數, 自己寫一個MSE函數(參考上面公式)"
   ]
  },
  {
   "cell_type": "markdown",
   "metadata": {},
   "source": [
    "# [作業重點]\n",
    "- 注意程式的縮排\n",
    "- 是否能將數學公式, 轉換為 Python 的函式組合? (In[2], Out[2])"
   ]
  },
  {
   "cell_type": "code",
   "execution_count": 3,
   "metadata": {},
   "outputs": [],
   "source": [
    "# 載入基礎套件與代稱\n",
    "import numpy as np\n",
    "import matplotlib.pyplot as plt"
   ]
  },
  {
   "cell_type": "code",
   "execution_count": 4,
   "metadata": {},
   "outputs": [],
   "source": [
    "def mean_absolute_error(y, yp):\n",
    "    \"\"\"\n",
    "    計算 MAE\n",
    "    Args:\n",
    "        - y: 實際值\n",
    "        - yp: 預測值\n",
    "    Return:\n",
    "        - mae: MAE\n",
    "    \"\"\"\n",
    "    mae = MAE = sum(abs(y - yp)) / len(y)\n",
    "    return mae\n",
    "\n",
    "# 定義 mean_squared_error 這個函數, 計算並傳回 MSE\n",
    "def mean_squared_error(a,ai):\n",
    "    \"\"\"\n",
    "    請完成這個 Function 後往下執行\n",
    "    \"\"\"\n",
    "    mse = sum((a-ai)**2)/ len(a)\n",
    "    return mse"
   ]
  },
  {
   "cell_type": "code",
   "execution_count": 5,
   "metadata": {},
   "outputs": [
    {
     "data": {
      "image/png": "[encoded data removed]",
      "text/plain": [
       "<Figure size 432x288 with 1 Axes>"
      ]
     },
     "metadata": {
      "needs_background": "light"
     },
     "output_type": "display_data"
    }
   ],
   "source": [
    "# 與範例相同, 不另外解說\n",
    "w = 3\n",
    "b = 0.5\n",
    "x_lin = np.linspace(0, 100, 101)\n",
    "y = (x_lin + np.random.randn(101) * 5) * w + b\n",
    "\n",
    "plt.plot(x_lin, y, 'b.', label = 'data points')\n",
    "plt.title(\"Assume we have data points\")\n",
    "plt.legend(loc = 2)\n",
    "plt.show()"
   ]
  },
  {
   "cell_type": "code",
   "execution_count": 6,
   "metadata": {},
   "outputs": [
    {
     "data": {
      "image/png": "[encoded data removed]",
      "text/plain": [
       "<Figure size 432x288 with 1 Axes>"
      ]
     },
     "metadata": {
      "needs_background": "light"
     },
     "output_type": "display_data"
    }
   ],
   "source": [
    "# 與範例相同, 不另外解說\n",
    "y_hat = x_lin * w + b\n",
    "plt.plot(x_lin, y, 'b.', label = 'data')\n",
    "plt.plot(x_lin, y_hat, 'r-', label = 'prediction')\n",
    "plt.title(\"Assume we have data points (And the prediction)\")\n",
    "plt.legend(loc = 2)\n",
    "plt.show()"
   ]
  },
  {
   "cell_type": "code",
   "execution_count": 7,
   "metadata": {},
   "outputs": [
    {
     "name": "stdout",
     "output_type": "stream",
     "text": [
      "The Mean squared error is 170.175\n",
      "The Mean absolute error is 10.533\n"
     ]
    }
   ],
   "source": [
    "# 執行 Function, 確認有沒有正常執行\n",
    "MSE = mean_squared_error(y, y_hat)\n",
    "MAE = mean_absolute_error(y, y_hat)\n",
    "print(\"The Mean squared error is %.3f\" % (MSE))\n",
    "print(\"The Mean absolute error is %.3f\" % (MAE))"
   ]
  },
  {
   "attachments": {},
   "cell_type": "markdown",
   "metadata": {},
   "source": [
    "# [作業2]\n",
    "\n",
    "請上 Kaggle, 在 Competitions 或 Dataset 中找一組競賽或資料並寫下：  \n",
    "\n",
    "我選擇的Competitions是\"House Prices: Advanced Regression Techniques\"    \n",
    "1. 你選的這組資料為何重要  \n",
    "    Ans:  \n",
    "    透過龐大的資料量，可以進而聊解到買房的人最在乎房子/周圍環境的細節，可以依據資料，更知道哪些變數對於價格有更大的影響  \n",
    "    \n",
    "      \n",
    "2. 資料從何而來 (tips: 譬如提供者是誰、以什麼方式蒐集)  \n",
    "    Ans:    \n",
    "    資料是由 Ames City Assessor’s Office提供給Dean De Cock編製而成  \n",
    "    \n",
    "    \n",
    "3. 蒐集而來的資料型態為何  \n",
    "    Ans:  \n",
    "    資料型態是.csv文件  \n",
    "    \n",
    "    \n",
    "4. 這組資料想解決的問題如何評估   \n",
    "    Ans:  \n",
    "    1.這個比賽主要是透過這組資料，評估最後房子的成交價格  \n",
    "    2.可以透過差異性，來初步判斷價格  \n",
    "    舉例:從資料來看，最高價格(SalePrice=281644)與最低價格(SalePrice=135751)，造成這個價差的項目總共有42項(其餘37個項目都是相同的)。  \n",
    "    現在假設:  \n",
    "    如果最高價與最低價房子只有1項差異性(例如:售出年份相差1年)，且價差為10000，那就可以將此經驗套用在其他的房子上  \n",
    "    未來只要有售出年份相差1年的情況，可以初步評估，價差可以達到約5000~15000左右的情況  \n",
    "    且當資料量足夠龐大，那預期的價格就可以越來越精準，誤差會更小。\n",
    "\n",
    "# [作業3]\n",
    "\n",
    "想像你經營一個自由載客車隊，你希望能透過數據分析以提升業績，請你思考並描述你如何規劃整體的分析/解決方案：\n",
    "\n",
    "1. 核心問題為何 (tips：如何定義 「提升業績 & 你的假設」)  \n",
    "    Ans:  \n",
    "    我的假設:  \n",
    "    乘客在意的是(安全性/舒適度/效率/禮貌/價格)  \n",
    "    老闆在意的是(營收)  \n",
    "    \n",
    "    若我是老闆想提升業績  \n",
    "    a.首先會先分析哪個區域(時段)的需求量最多，先確認一個禮拜下來，定點載客或是隨機載客的業績比較好。  \n",
    "    b.再來分析其他業績比我們還要好的車隊的主要差異性，有可以改進的地方再加以調整。  \n",
    "    c.最後提供搭乘優惠方案  (一).使用特定銀行支付可以現金回饋。        (二).搭乘我們車隊達到固定里程數，可以現金回饋。\n",
    "    \n",
    "    \n",
    "2. 資料從何而來 (tips：哪些資料可能會對你想問的問題產生影響 & 資料如何蒐集)  \n",
    "    Ans:  \n",
    "    1.透過親自觀察  \n",
    "    2.將車隊分成2隊，一隊定點載客，另一隊隨機載客，將數據比較整理看哪一隊人馬業績較好  \n",
    "    3.詢問較有經驗的司機\n",
    "    \n",
    "    \n",
    "3. 蒐集而來的資料型態為何  \n",
    "    Ans:  \n",
    "    先用手稿紀錄，最後整理成.csv文件\n",
    "    \n",
    "    \n",
    "4. 你要回答的問題，其如何評估 (tips：你的假設如何驗證)  \n",
    "    Ans:  \n",
    "    實際看3個月後的業績成效是否有在調整策略後符合預期改善，若沒改善，則需再評估問題點。\n",
    "    \n",
    "    "
   ]
  },
  {
   "cell_type": "code",
   "execution_count": null,
   "metadata": {},
   "outputs": [],
   "source": [
    "\n"
   ]
  },
  {
   "cell_type": "code",
   "execution_count": null,
   "metadata": {},
   "outputs": [],
   "source": []
  }
 ],
 "metadata": {
  "anaconda-cloud": {},
  "kernelspec": {
   "display_name": "Python 3",
   "language": "python",
   "name": "python3"
  },
  "language_info": {
   "codemirror_mode": {
    "name": "ipython",
    "version": 3
   },
   "file_extension": ".py",
   "mimetype": "text/x-python",
   "name": "python",
   "nbconvert_exporter": "python",
   "pygments_lexer": "ipython3",
   "version": "3.7.3"
  }
 },
 "nbformat": 4,
 "nbformat_minor": 1
}

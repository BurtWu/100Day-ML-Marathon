{
 "cells": [
  {
   "cell_type": "markdown",
   "metadata": {},
   "source": [
    "## [作業目標]\n",
    "了解機器學習適合應用的領域與範疇。"
   ]
  },
  {
   "cell_type": "markdown",
   "metadata": {},
   "source": [
    "## [作業重點]\n",
    "透過瞭解機器學習的運作方式，找出非常適用機器學習應用的領域及其原因"
   ]
  },
  {
   "cell_type": "markdown",
   "metadata": {},
   "source": [
    "## 作業\n",
    "請找出一個你認為機器學習可以發光發熱的領域並闡述原因?  \n",
    "\n",
    "機器學習: \"機器從資料中找尋規律律與趨勢⽽而不需要給定特殊規則\"  \n",
    "我認為機器學習可以應用的層面非常廣泛，但覺得非常適用機器學習應用的領域是警察單位(監控系統)的這個部分。    \n",
    "曾經在電影\"疑犯追蹤\"看過，嫌犯只要出現在任何一支監視器前面，就會馬上被辨認出來並通報有關當局  \n",
    "相信以現今科技已經有辦法做到，但可能沒有辦法快速以及非常精準的判斷  \n",
    "若這項科技在未來可以做到快速辨識嫌犯的功能，可以及時逮捕嫌犯，減低社會危害，對社會是一個很大的福音。"
   ]
  },
  {
   "cell_type": "code",
   "execution_count": null,
   "metadata": {},
   "outputs": [],
   "source": [
    "   "
   ]
  }
 ],
 "metadata": {
  "kernelspec": {
   "display_name": "Python 3",
   "language": "python",
   "name": "python3"
  },
  "language_info": {
   "codemirror_mode": {
    "name": "ipython",
    "version": 3
   },
   "file_extension": ".py",
   "mimetype": "text/x-python",
   "name": "python",
   "nbconvert_exporter": "python",
   "pygments_lexer": "ipython3",
   "version": "3.7.3"
  }
 },
 "nbformat": 4,
 "nbformat_minor": 2
}
